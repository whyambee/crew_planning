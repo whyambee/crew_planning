{
 "cells": [
  {
   "cell_type": "markdown",
   "metadata": {},
   "source": [
    "For the background on this simulation, see http://publish.illinois.edu/ymb/2020/03/14/keeping-your-teams-safe/.\n",
    "\n",
    "Start with the usual:"
   ]
  },
  {
   "cell_type": "code",
   "execution_count": 34,
   "metadata": {},
   "outputs": [],
   "source": [
    "import numpy as np\n",
    "import matplotlib.pyplot as plt"
   ]
  },
  {
   "cell_type": "markdown",
   "metadata": {},
   "source": [
    "*MaxIncubation* is just a marker for a healthy person; *Contagious* parameter is an estimate \n",
    "of how many hours before symptoms become apparent, the infected person becomes contagious."
   ]
  },
  {
   "cell_type": "code",
   "execution_count": 35,
   "metadata": {},
   "outputs": [],
   "source": [
    "MaxIncubation=100000;\n",
    "Contagious=48;"
   ]
  },
  {
   "cell_type": "markdown",
   "metadata": {},
   "source": [
    "To prepare some simulated schedules: periodic..."
   ]
  },
  {
   "cell_type": "code",
   "execution_count": 52,
   "metadata": {},
   "outputs": [],
   "source": [
    "def MakePeriodic(shift,timeslots,rotation):\n",
    "    a=np.zeros([len(shift),timeslots]);    \n",
    "    for t in range(timeslots):\n",
    "        a[:,t]=np.roll(shift,rotation*t);\n",
    "    return(a.astype(int))"
   ]
  },
  {
   "cell_type": "markdown",
   "metadata": {},
   "source": [
    "...and random"
   ]
  },
  {
   "cell_type": "code",
   "execution_count": 53,
   "metadata": {},
   "outputs": [],
   "source": [
    "def MakeTwoTeamsRandom(team,timeslots):\n",
    "    a=np.zeros([2*team,timeslots]);\n",
    "    a[0:team,0]=np.ones(team);\n",
    "    for c in range(timeslots):\n",
    "        a[:,c]=a[np.random.permutation(2*team),0];\n",
    "    return(a.astype(int))"
   ]
  },
  {
   "cell_type": "markdown",
   "metadata": {},
   "source": [
    "Count how many on the team are infected, but asymptomatic (not removed)"
   ]
  },
  {
   "cell_type": "code",
   "execution_count": 54,
   "metadata": {},
   "outputs": [],
   "source": [
    "def TeamCountsCon(t,numberteams,assignment,state):\n",
    "    count=np.zeros(numberteams);\n",
    "    crew=np.shape(state)[0];\n",
    "    for i in range(crew):\n",
    "        if (state[i,t-1]<Contagious) and (0<state[i,t-1]):\n",
    "            count[assignment[i,t]-1]+=1;\n",
    "    return count;"
   ]
  },
  {
   "cell_type": "markdown",
   "metadata": {},
   "source": [
    "Random process of infection at work: note that we assume that peope become contagious only when they are\n",
    "close to symptoms (4 days, - and this might be too high or too low!), and asymptomatic (we assume\n",
    "that once symptoms manifest, the workers stays at home)."
   ]
  },
  {
   "cell_type": "code",
   "execution_count": 55,
   "metadata": {},
   "outputs": [],
   "source": [
    "def InfectWork(countinfected):\n",
    "    infect=(1-InfRateWork/24*HperSlot)**countinfected<np.random.random()\n",
    "    return infect"
   ]
  },
  {
   "cell_type": "markdown",
   "metadata": {},
   "source": [
    "...and at home."
   ]
  },
  {
   "cell_type": "code",
   "execution_count": 56,
   "metadata": {},
   "outputs": [],
   "source": [
    "def InfectHome():\n",
    "    infect=(1-InfRateHome*HperSlot/24)<np.random.random()\n",
    "    return infect"
   ]
  },
  {
   "cell_type": "markdown",
   "metadata": {},
   "source": [
    "Important parameter: we approximate incubation time as log-normal, with parameters 1.62 and .418 (see https://www.mdpi.com/2077-0383/9/2/538)"
   ]
  },
  {
   "cell_type": "code",
   "execution_count": 57,
   "metadata": {},
   "outputs": [],
   "source": [
    "def IncubationTime():\n",
    "    return 24*np.random.lognormal(1.62,.418); # incubation period ~ lognormal: reference"
   ]
  },
  {
   "cell_type": "markdown",
   "metadata": {},
   "source": [
    "One simulation run"
   ]
  },
  {
   "cell_type": "code",
   "execution_count": 58,
   "metadata": {},
   "outputs": [],
   "source": [
    "def Run(assignment):\n",
    "    # prepare state MaxIncubation if healthy, 0<T<MaxIncubation if latent\n",
    "    # infected, 0 if symptomatic\n",
    "    [Crew,Tslots]=np.shape(assignment);\n",
    "    NumberTeams=np.max(assignment);\n",
    "    State=np.zeros([Crew,Tslots]);\n",
    "    # Initialize:\n",
    "    for i in range(Crew):\n",
    "        State[i,0]=MaxIncubation; #all healthy\n",
    "\n",
    "    InfectedAtWork=0;\n",
    "    # Actual run\n",
    "    for t in range(1,Tslots):\n",
    "        Count=TeamCountsCon(t-1,NumberTeams,assignment,State);\n",
    "        for i in range(Crew):\n",
    "            if State[i,t-1]==MaxIncubation: # if healthy\n",
    "                if (assignment[i,t]==0 and InfectHome()): #Infected\n",
    "                    State[i,t]=IncubationTime();\n",
    "                elif (assignment[i,t]>0 and InfectWork(Count[assignment[i,t]-1])):\n",
    "                    State[i,t]=IncubationTime();\n",
    "                    InfectedAtWork+=1;\n",
    "                else:\n",
    "                    State[i,t]=MaxIncubation;\n",
    "            elif State[i,t-1]>0:            # latent\n",
    "                State[i,t]=State[i,t-1]-HperSlot;\n",
    "            elif State[i,t-1]<=0:\n",
    "                State[i,t]=0;\n",
    "    return(State)"
   ]
  },
  {
   "cell_type": "markdown",
   "metadata": {},
   "source": [
    "Perform many runs:"
   ]
  },
  {
   "cell_type": "code",
   "execution_count": 59,
   "metadata": {},
   "outputs": [],
   "source": [
    "def Iterate(iterations, assignment):\n",
    "    InfectedTotal=[];\n",
    "    WorkingTotal=[];\n",
    "    SymptomTime=[];\n",
    "    InfectedAtSymptomTime=[];\n",
    "    for t in range(iterations):\n",
    "        state=Run(assignment);\n",
    "        InfectedTotal.append(sum(state[:,-1]<MaxIncubation));\n",
    "        WorkingTotal.append(sum(sum((state>0)*(assignment>0))));\n",
    "        SymptomTime.append(sum(sum(state<=0)==0));\n",
    "        InfectedAtSymptomTime.append(sum(state[:,sum(sum(state<=0)==0)-1]<MaxIncubation));\n",
    "    return [InfectedTotal,WorkingTotal,SymptomTime,InfectedAtSymptomTime]"
   ]
  },
  {
   "cell_type": "markdown",
   "metadata": {},
   "source": [
    "Set the infections rate: *InfRateHome* is just the chance to get infected while away from work (per day). Infection rates at work *InfRateWork* are trickier: it is the chances to get infected by one contagious colleague (per work day). If one has multiple contagious coworkers, the rate (on the given location) increases correspondingly.\n",
    "*HperSlot* is a variable for future more detailed simulations (right now we assume that both work and home are simple 24 hours periods)."
   ]
  },
  {
   "cell_type": "code",
   "execution_count": 60,
   "metadata": {},
   "outputs": [],
   "source": [
    "InfRateWork=.05; \n",
    "InfRateHome=.01;\n",
    "HperSlot=24;"
   ]
  },
  {
   "cell_type": "markdown",
   "metadata": {},
   "source": [
    "Here we prepare a few scheduling options. \n",
    "\n",
    "**In the real life applications**, the table *Assignments* - which has rows for the workers, columns for time slots, -\n",
    "should be populated by placing 0 for staying at home, *k>=1* for workday with team *k*.\n",
    "\n",
    "Below we prepare some perioding assinments (*p* days at work, *p* days at home) or random ones."
   ]
  },
  {
   "cell_type": "code",
   "execution_count": 61,
   "metadata": {},
   "outputs": [],
   "source": [
    "team=10;      #size of each team\n",
    "timeslots=60;\n",
    "shift1=[0,0,0,0,0,0,0,0,0,0,1,1,1,1,1,2,2,2,2,2]; # 10 workers split into 2 non-interacting teams\n",
    "shift2=[0,0,0,0,0,0,0,0,0,0,1,1,1,1,1,1,1,1,1,1]; # 10 workers share workspace\n",
    "rotate=5;\n",
    "\n",
    "Assignment1=MakePeriodic(shift1,timeslots,rotate);\n",
    "Assignment2=MakePeriodic(shift2,timeslots,rotate);\n",
    "Assignment3=MakeTwoTeamsRandom(team,timeslots);"
   ]
  },
  {
   "cell_type": "markdown",
   "metadata": {},
   "source": [
    "Time to do acual run: we do *iter* runs per schedule."
   ]
  },
  {
   "cell_type": "code",
   "execution_count": 63,
   "metadata": {},
   "outputs": [],
   "source": [
    "iter=400;\n",
    "\n",
    "[I1,W1,S1,A1]=Iterate(iter,Assignment1);\n",
    "[I2,W2,S2,A2]=Iterate(iter,Assignment2);\n",
    "[I3,W3,S3,A3]=Iterate(iter,Assignment3);"
   ]
  },
  {
   "cell_type": "markdown",
   "metadata": {},
   "source": [
    "output results:"
   ]
  },
  {
   "cell_type": "code",
   "execution_count": 65,
   "metadata": {},
   "outputs": [
    {
     "name": "stdout",
     "output_type": "stream",
     "text": [
      "\n",
      " team of 20 \n",
      " at work infection rate/contagious person: 0.05 \n",
      " at home infection rate: 0.01 \n",
      " time horizon: 60\n"
     ]
    },
    {
     "data": {
      "image/png": "[encoded data removed]",
      "text/plain": [
       "<Figure size 432x288 with 1 Axes>"
      ]
     },
     "metadata": {
      "needs_background": "light"
     },
     "output_type": "display_data"
    }
   ],
   "source": [
    "print('\\n team of',str(np.shape(Assignment1)[0]),'\\n at work infection rate/contagious person:',str(InfRateWork),'\\n at home infection rate:',str(InfRateHome),'\\n time horizon:',str(np.shape(Assignment1)[1]))\n",
    "\n",
    "x=np.arange(len(I1))/len(I1);\n",
    "\n",
    "legend1='two teams, periodic ';\n",
    "legend2='one team, periodic ';\n",
    "legend3='random'\n",
    "\n",
    "plt.plot(np.sort(I1),x,np.sort(I2),x,np.sort(I3),x)\n",
    "plt.legend((legend1, legend2, legend3))\n",
    "plt.title('Infected total')\n",
    "plt.show()"
   ]
  },
  {
   "cell_type": "markdown",
   "metadata": {},
   "source": [
    "the plot above is the *cumulative distribution function*: for any $x$, \n",
    "    the $y$ coordinate is the probability that your total number of infected \n",
    "    is less than this height. So, the higher the plot is, the better.\n",
    "    The area of the NW part of the plot above the corresponding curve is \n",
    "    the average number of the infected, somthing you should probably pay \n",
    "    the most attention to."
   ]
  },
  {
   "cell_type": "code",
   "execution_count": null,
   "metadata": {},
   "outputs": [],
   "source": []
  }
 ],
 "metadata": {
  "kernelspec": {
   "display_name": "Python 3",
   "language": "python",
   "name": "python3"
  },
  "language_info": {
   "codemirror_mode": {
    "name": "ipython",
    "version": 3
   },
   "file_extension": ".py",
   "mimetype": "text/x-python",
   "name": "python",
   "nbconvert_exporter": "python",
   "pygments_lexer": "ipython3",
   "version": "3.7.1"
  }
 },
 "nbformat": 4,
 "nbformat_minor": 2
}
